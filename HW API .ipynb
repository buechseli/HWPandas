{
 "cells": [
  {
   "cell_type": "code",
   "execution_count": 1,
   "metadata": {},
   "outputs": [],
   "source": [
    "import pandas as pd\n",
    "import matplotlib as mply\n",
    "import seaborn as sbn\n",
    "import numpy as np\n",
    "import requests\n",
    "import time\n",
    "import json\n",
    "from config import api\n",
    "from pandas import DataFrame\n",
    "\n"
   ]
  },
  {
   "cell_type": "code",
   "execution_count": 2,
   "metadata": {
    "scrolled": false
   },
   "outputs": [
    {
     "data": {
      "text/html": [
       "<div>\n",
       "<style scoped>\n",
       "    .dataframe tbody tr th:only-of-type {\n",
       "        vertical-align: middle;\n",
       "    }\n",
       "\n",
       "    .dataframe tbody tr th {\n",
       "        vertical-align: top;\n",
       "    }\n",
       "\n",
       "    .dataframe thead th {\n",
       "        text-align: right;\n",
       "    }\n",
       "</style>\n",
       "<table border=\"1\" class=\"dataframe\">\n",
       "  <thead>\n",
       "    <tr style=\"text-align: right;\">\n",
       "      <th></th>\n",
       "      <th>Country</th>\n",
       "      <th>City</th>\n",
       "      <th>Latitude</th>\n",
       "      <th>Longitude</th>\n",
       "    </tr>\n",
       "  </thead>\n",
       "  <tbody>\n",
       "    <tr>\n",
       "      <th>0</th>\n",
       "      <td>ad</td>\n",
       "      <td>andorra la vella</td>\n",
       "      <td>42.500000</td>\n",
       "      <td>1.516667</td>\n",
       "    </tr>\n",
       "    <tr>\n",
       "      <th>1</th>\n",
       "      <td>ad</td>\n",
       "      <td>canillo</td>\n",
       "      <td>42.566667</td>\n",
       "      <td>1.600000</td>\n",
       "    </tr>\n",
       "    <tr>\n",
       "      <th>2</th>\n",
       "      <td>ad</td>\n",
       "      <td>encamp</td>\n",
       "      <td>42.533333</td>\n",
       "      <td>1.583333</td>\n",
       "    </tr>\n",
       "    <tr>\n",
       "      <th>3</th>\n",
       "      <td>ad</td>\n",
       "      <td>la massana</td>\n",
       "      <td>42.550000</td>\n",
       "      <td>1.516667</td>\n",
       "    </tr>\n",
       "    <tr>\n",
       "      <th>4</th>\n",
       "      <td>ad</td>\n",
       "      <td>les escaldes</td>\n",
       "      <td>42.500000</td>\n",
       "      <td>1.533333</td>\n",
       "    </tr>\n",
       "  </tbody>\n",
       "</table>\n",
       "</div>"
      ],
      "text/plain": [
       "  Country              City   Latitude  Longitude\n",
       "0      ad  andorra la vella  42.500000   1.516667\n",
       "1      ad           canillo  42.566667   1.600000\n",
       "2      ad            encamp  42.533333   1.583333\n",
       "3      ad        la massana  42.550000   1.516667\n",
       "4      ad      les escaldes  42.500000   1.533333"
      ]
     },
     "execution_count": 2,
     "metadata": {},
     "output_type": "execute_result"
    }
   ],
   "source": [
    "cities = pd.read_csv(\"worldcities.csv\")\n",
    "cities\n",
    "cities.head()"
   ]
  },
  {
   "cell_type": "code",
   "execution_count": 3,
   "metadata": {},
   "outputs": [],
   "source": [
    "cities_sample = cities.sample(n=5, frac=None, replace=False, weights=None, random_state=None, axis=None)"
   ]
  },
  {
   "cell_type": "code",
   "execution_count": 4,
   "metadata": {},
   "outputs": [
    {
     "data": {
      "text/html": [
       "<div>\n",
       "<style scoped>\n",
       "    .dataframe tbody tr th:only-of-type {\n",
       "        vertical-align: middle;\n",
       "    }\n",
       "\n",
       "    .dataframe tbody tr th {\n",
       "        vertical-align: top;\n",
       "    }\n",
       "\n",
       "    .dataframe thead th {\n",
       "        text-align: right;\n",
       "    }\n",
       "</style>\n",
       "<table border=\"1\" class=\"dataframe\">\n",
       "  <thead>\n",
       "    <tr style=\"text-align: right;\">\n",
       "      <th></th>\n",
       "      <th>Country</th>\n",
       "      <th>City</th>\n",
       "      <th>Latitude</th>\n",
       "      <th>Longitude</th>\n",
       "    </tr>\n",
       "  </thead>\n",
       "  <tbody>\n",
       "    <tr>\n",
       "      <th>36154</th>\n",
       "      <td>ru</td>\n",
       "      <td>kamyshla</td>\n",
       "      <td>54.116933</td>\n",
       "      <td>52.142617</td>\n",
       "    </tr>\n",
       "    <tr>\n",
       "      <th>21721</th>\n",
       "      <td>jp</td>\n",
       "      <td>ryotsu</td>\n",
       "      <td>38.083333</td>\n",
       "      <td>138.433333</td>\n",
       "    </tr>\n",
       "    <tr>\n",
       "      <th>17259</th>\n",
       "      <td>in</td>\n",
       "      <td>bhinmal</td>\n",
       "      <td>25.000000</td>\n",
       "      <td>72.250000</td>\n",
       "    </tr>\n",
       "    <tr>\n",
       "      <th>5783</th>\n",
       "      <td>cm</td>\n",
       "      <td>mora</td>\n",
       "      <td>11.042500</td>\n",
       "      <td>14.144722</td>\n",
       "    </tr>\n",
       "    <tr>\n",
       "      <th>5344</th>\n",
       "      <td>ch</td>\n",
       "      <td>freienbach</td>\n",
       "      <td>47.204077</td>\n",
       "      <td>8.756933</td>\n",
       "    </tr>\n",
       "  </tbody>\n",
       "</table>\n",
       "</div>"
      ],
      "text/plain": [
       "      Country        City   Latitude   Longitude\n",
       "36154      ru    kamyshla  54.116933   52.142617\n",
       "21721      jp      ryotsu  38.083333  138.433333\n",
       "17259      in     bhinmal  25.000000   72.250000\n",
       "5783       cm        mora  11.042500   14.144722\n",
       "5344       ch  freienbach  47.204077    8.756933"
      ]
     },
     "execution_count": 4,
     "metadata": {},
     "output_type": "execute_result"
    }
   ],
   "source": [
    "cities_sample.head()"
   ]
  },
  {
   "cell_type": "code",
   "execution_count": 5,
   "metadata": {},
   "outputs": [
    {
     "data": {
      "text/plain": [
       "{'City': 36154      kamyshla\n",
       " 21721        ryotsu\n",
       " 17259       bhinmal\n",
       " 5783           mora\n",
       " 5344     freienbach\n",
       " Name: City, dtype: object, 'lat': 36154    54.116933\n",
       " 21721    38.083333\n",
       " 17259    25.000000\n",
       " 5783     11.042500\n",
       " 5344     47.204077\n",
       " Name: Latitude, dtype: float64, 'lon': 36154     52.142617\n",
       " 21721    138.433333\n",
       " 17259     72.250000\n",
       " 5783      14.144722\n",
       " 5344       8.756933\n",
       " Name: Longitude, dtype: float64}"
      ]
     },
     "execution_count": 5,
     "metadata": {},
     "output_type": "execute_result"
    }
   ],
   "source": [
    "weather_dict={\n",
    "    \"City\": cities_sample.City,\n",
    "    \"lat\": cities_sample.Latitude,\n",
    "    \"lon\": cities_sample.Longitude}\n",
    "weather_dict"
   ]
  },
  {
   "cell_type": "code",
   "execution_count": 6,
   "metadata": {},
   "outputs": [],
   "source": [
    "\n",
    "cities_sample['temperature'] = \"\"\n",
    "cities_sample['humidity'] = \"\"\n",
    "cities_sample['cloudiness'] = \"\"\n",
    "cities_sample['wind speed'] = \"\""
   ]
  },
  {
   "cell_type": "code",
   "execution_count": 7,
   "metadata": {
    "scrolled": true
   },
   "outputs": [
    {
     "data": {
      "text/html": [
       "<div>\n",
       "<style scoped>\n",
       "    .dataframe tbody tr th:only-of-type {\n",
       "        vertical-align: middle;\n",
       "    }\n",
       "\n",
       "    .dataframe tbody tr th {\n",
       "        vertical-align: top;\n",
       "    }\n",
       "\n",
       "    .dataframe thead th {\n",
       "        text-align: right;\n",
       "    }\n",
       "</style>\n",
       "<table border=\"1\" class=\"dataframe\">\n",
       "  <thead>\n",
       "    <tr style=\"text-align: right;\">\n",
       "      <th></th>\n",
       "      <th>Country</th>\n",
       "      <th>City</th>\n",
       "      <th>Latitude</th>\n",
       "      <th>Longitude</th>\n",
       "      <th>temperature</th>\n",
       "      <th>humidity</th>\n",
       "      <th>cloudiness</th>\n",
       "      <th>wind speed</th>\n",
       "    </tr>\n",
       "  </thead>\n",
       "  <tbody>\n",
       "    <tr>\n",
       "      <th>36154</th>\n",
       "      <td>ru</td>\n",
       "      <td>kamyshla</td>\n",
       "      <td>54.116933</td>\n",
       "      <td>52.142617</td>\n",
       "      <td></td>\n",
       "      <td></td>\n",
       "      <td></td>\n",
       "      <td></td>\n",
       "    </tr>\n",
       "    <tr>\n",
       "      <th>21721</th>\n",
       "      <td>jp</td>\n",
       "      <td>ryotsu</td>\n",
       "      <td>38.083333</td>\n",
       "      <td>138.433333</td>\n",
       "      <td></td>\n",
       "      <td></td>\n",
       "      <td></td>\n",
       "      <td></td>\n",
       "    </tr>\n",
       "    <tr>\n",
       "      <th>17259</th>\n",
       "      <td>in</td>\n",
       "      <td>bhinmal</td>\n",
       "      <td>25.000000</td>\n",
       "      <td>72.250000</td>\n",
       "      <td></td>\n",
       "      <td></td>\n",
       "      <td></td>\n",
       "      <td></td>\n",
       "    </tr>\n",
       "    <tr>\n",
       "      <th>5783</th>\n",
       "      <td>cm</td>\n",
       "      <td>mora</td>\n",
       "      <td>11.042500</td>\n",
       "      <td>14.144722</td>\n",
       "      <td></td>\n",
       "      <td></td>\n",
       "      <td></td>\n",
       "      <td></td>\n",
       "    </tr>\n",
       "    <tr>\n",
       "      <th>5344</th>\n",
       "      <td>ch</td>\n",
       "      <td>freienbach</td>\n",
       "      <td>47.204077</td>\n",
       "      <td>8.756933</td>\n",
       "      <td></td>\n",
       "      <td></td>\n",
       "      <td></td>\n",
       "      <td></td>\n",
       "    </tr>\n",
       "  </tbody>\n",
       "</table>\n",
       "</div>"
      ],
      "text/plain": [
       "      Country        City   Latitude   Longitude temperature humidity  \\\n",
       "36154      ru    kamyshla  54.116933   52.142617                        \n",
       "21721      jp      ryotsu  38.083333  138.433333                        \n",
       "17259      in     bhinmal  25.000000   72.250000                        \n",
       "5783       cm        mora  11.042500   14.144722                        \n",
       "5344       ch  freienbach  47.204077    8.756933                        \n",
       "\n",
       "      cloudiness wind speed  \n",
       "36154                        \n",
       "21721                        \n",
       "17259                        \n",
       "5783                         \n",
       "5344                         "
      ]
     },
     "execution_count": 7,
     "metadata": {},
     "output_type": "execute_result"
    }
   ],
   "source": [
    "cities_sample.head()"
   ]
  },
  {
   "cell_type": "code",
   "execution_count": 13,
   "metadata": {},
   "outputs": [
    {
     "name": "stdout",
     "output_type": "stream",
     "text": [
      "{\n",
      "    \"base\": \"stations\",\n",
      "    \"clouds\": {\n",
      "        \"all\": 1\n",
      "    },\n",
      "    \"cod\": 200,\n",
      "    \"coord\": {\n",
      "        \"lat\": 40.77,\n",
      "        \"lon\": -73.95\n",
      "    },\n",
      "    \"dt\": 1522732500,\n",
      "    \"id\": 7250946,\n",
      "    \"main\": {\n",
      "        \"humidity\": 69,\n",
      "        \"pressure\": 1023,\n",
      "        \"temp\": 274.39,\n",
      "        \"temp_max\": 277.15,\n",
      "        \"temp_min\": 271.15\n",
      "    },\n",
      "    \"name\": \"Carnegie Hill\",\n",
      "    \"sys\": {\n",
      "        \"country\": \"US\",\n",
      "        \"id\": 2121,\n",
      "        \"message\": 0.1678,\n",
      "        \"sunrise\": 1522751741,\n",
      "        \"sunset\": 1522797775,\n",
      "        \"type\": 1\n",
      "    },\n",
      "    \"visibility\": 16093,\n",
      "    \"weather\": [\n",
      "        {\n",
      "            \"description\": \"clear sky\",\n",
      "            \"icon\": \"01n\",\n",
      "            \"id\": 800,\n",
      "            \"main\": \"Clear\"\n",
      "        }\n",
      "    ],\n",
      "    \"wind\": {\n",
      "        \"deg\": 175,\n",
      "        \"speed\": 1.81\n",
      "    }\n",
      "}\n"
     ]
    }
   ],
   "source": [
    "for Cities in cities_sample:\n",
    "    \n",
    "    lat = cities_sample['Latitude']\n",
    "    lon = cities_sample['Longitude']\n",
    "    \n",
    "    api = api\n",
    "    url = f\"http://api.openweathermap.org/data/2.5/weather?lat={lat}&lon={lon}&appid={api}\" \n",
    "    temp_cities = requests.get(url).json()\n",
    "\n",
    "temp_cities\n",
    "print(json.dumps(temp_cities, sort_keys=True, indent=4, separators=(',', ': ')))"
   ]
  },
  {
   "cell_type": "code",
   "execution_count": null,
   "metadata": {},
   "outputs": [],
   "source": [
    "   \n"
   ]
  },
  {
   "cell_type": "code",
   "execution_count": null,
   "metadata": {},
   "outputs": [],
   "source": []
  }
 ],
 "metadata": {
  "kernelspec": {
   "display_name": "Python 3",
   "language": "python",
   "name": "python3"
  },
  "language_info": {
   "codemirror_mode": {
    "name": "ipython",
    "version": 3
   },
   "file_extension": ".py",
   "mimetype": "text/x-python",
   "name": "python",
   "nbconvert_exporter": "python",
   "pygments_lexer": "ipython3",
   "version": "3.6.4"
  }
 },
 "nbformat": 4,
 "nbformat_minor": 2
}
